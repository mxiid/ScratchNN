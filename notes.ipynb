{
 "cells": [
  {
   "cell_type": "markdown",
   "metadata": {},
   "source": [
    "`zip` basically zips the two lists together. For example, if we have two lists `a = [1, 2, 3]` and `b = [4, 5, 6]`, then `zip(a, b)` will return `[(1, 4), (2, 5), (3, 6)]`."
   ]
  },
  {
   "cell_type": "code",
   "execution_count": 2,
   "metadata": {},
   "outputs": [
    {
     "name": "stdout",
     "output_type": "stream",
     "text": [
      "[3.1, 2.1, 8.7, 1.0] 2\n",
      "[0.5, -0.91, 0.2, -0.5] 3\n",
      "[-0.26, -2.1, 0.17, 0.87] 0.5\n"
     ]
    }
   ],
   "source": [
    "inputs = [1.2, 5.1, 2.1, 2.5]\n",
    "\n",
    "weights = [[3.1, 2.1, 8.7, 1.0], [0.5, -0.91, 0.2, -0.5], [-0.26, -2.1, 0.17, 0.87]]\n",
    "\n",
    "biases = [2, 3, 0.5]\n",
    "\n",
    "for i, j in zip(weights, biases):\n",
    "    print(i, j)"
   ]
  },
  {
   "cell_type": "code",
   "execution_count": null,
   "metadata": {},
   "outputs": [],
   "source": []
  }
 ],
 "metadata": {
  "kernelspec": {
   "display_name": "venv",
   "language": "python",
   "name": "python3"
  },
  "language_info": {
   "codemirror_mode": {
    "name": "ipython",
    "version": 3
   },
   "file_extension": ".py",
   "mimetype": "text/x-python",
   "name": "python",
   "nbconvert_exporter": "python",
   "pygments_lexer": "ipython3",
   "version": "3.11.4"
  }
 },
 "nbformat": 4,
 "nbformat_minor": 2
}
